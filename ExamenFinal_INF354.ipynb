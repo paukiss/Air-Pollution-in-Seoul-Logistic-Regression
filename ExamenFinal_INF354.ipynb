{
  "nbformat": 4,
  "nbformat_minor": 0,
  "metadata": {
    "colab": {
      "name": "ExamenFinal_INF354",
      "provenance": [],
      "collapsed_sections": []
    },
    "kernelspec": {
      "name": "python3",
      "display_name": "Python 3"
    },
    "language_info": {
      "name": "python"
    }
  },
  "cells": [
    {
      "cell_type": "markdown",
      "source": [
        "# **Air Pollution in Seoul**\n",
        "---\n",
        "[<img src=\"https://i.guim.co.uk/img/media/1d1abc561aad84be09d26b81d6959cb34c9be236/0_10_5000_3003/master/5000.jpg?width=1200&quality=85&auto=format&fit=max&s=cc0522633035a7c9ffd7081935b3a462\" width=\"500\"/>](image.png)\n",
        "\n",
        "Es de conocimiento común que la contaminación del aire puede causar varios problemas en el medio ambiente y en nuestra salud. La foto de arriba fue tomada el 11 de diciembre de 2019 y muestra cómo puede impactar severamente los paisajes de Seúl. En esta ocasión, un smog de polvo ultrafino, proveniente desde China, duró dos días e hizo que el gobierno local dictara medidas de emergencia para la reducción de emisiones. Según The Korea Times, el Centro de Pronóstico de la Calidad del Aire, con el Ministerio de Medio Ambiente, informó que el 11 de diciembre a las 10 p.m la concentración de partículas PM2.5 era de aproximadamente 118 microgramos por metro cúbico en Seúl."
      ],
      "metadata": {
        "id": "Qcg9oNgwo6gf"
      }
    },
    {
      "cell_type": "markdown",
      "source": [
        "# **Objetivo Investigacion del dataset**\n",
        "El proposito de trabajo de este dataset es para lograr dar una prediccion de como sera la contanimacion dentro una ciudad, en este caso el conjunto de datos nos proporciona la informacion de medicion de la contaminacion del aire en Seul, Corea del Sur."
      ],
      "metadata": {
        "id": "uqTG99jeo-xK"
      }
    },
    {
      "cell_type": "markdown",
      "source": [
        "Estos datos proporcionan valores promedio para seis contaminantes $(SO_2, NO_2, CO, O3, PM_{10}, PM_{2.5}).$\n",
        "- Los datos se midieron cada hora entre 2017 y 2019.\n",
        "- Se midieron los datos de 25 distritos de Seúl.\n"
      ],
      "metadata": {
        "id": "ztBDpxZChSmI"
      }
    },
    {
      "cell_type": "markdown",
      "source": [
        "- **Measurement** date = Hora y fecha de cuando se midio\n",
        "- **Station code** = Codigo de Estacion\n",
        "- **Address** = Direccion donde se obtuvieron los datos\n",
        "- **Latitude** = Latitud\n",
        "- **Longitude** = Longitud \n",
        "- **$SO_{2}$** = El dióxido de azufre, u óxido de azufre \n",
        "- **$NO_2$** = Dióxido de nitrógeno\n",
        "- **$CO$** = Monóxido de carbono\n",
        "- **$O3$** = Ozono\n",
        "- **$PM_{10}$** = Pequeñas partículas sólidas o líquidas de polvo, cenizas, hollín, partículas metálicas, cemento o polen, dispersas en la atmósfera\n",
        "- **$PM_{2.5}$** = Pequeñas partículas que incluye sustancias químicas orgánicas, polvo, hollín y metales. \n",
        "- **class** = Interpretacion si la contaminacion es:\n",
        "  - Good : Es normal\n",
        "  - Bad: Es mala "
      ],
      "metadata": {
        "id": "JyZKs4k7juRP"
      }
    },
    {
      "cell_type": "code",
      "execution_count": 218,
      "metadata": {
        "id": "SbOzV5Qsor1N"
      },
      "outputs": [],
      "source": [
        "import numpy as np \n",
        "import pandas as pd\n",
        "import matplotlib.pyplot as plt \n",
        "from sklearn.preprocessing import LabelEncoder\n",
        "from sklearn.model_selection import train_test_split\n",
        "from sklearn.metrics import accuracy_score\n",
        "from sklearn.linear_model import LogisticRegression"
      ]
    },
    {
      "cell_type": "markdown",
      "source": [
        "## Lectura e Importacion del Conjunto de Datos"
      ],
      "metadata": {
        "id": "Xfjo8YLfquaU"
      }
    },
    {
      "cell_type": "code",
      "source": [
        "df = pd.read_csv('https://gitlab.com/sergiopaucara/datos-air-pollution-in-seoul/-/raw/main/Measurement_summary.csv')\n",
        "df = df[:-1]\n",
        "df.head()"
      ],
      "metadata": {
        "colab": {
          "base_uri": "https://localhost:8080/",
          "height": 206
        },
        "id": "ByJrJklro3hw",
        "outputId": "ddcff1d5-11c6-446a-a496-935c9b23c9c4"
      },
      "execution_count": 230,
      "outputs": [
        {
          "output_type": "execute_result",
          "data": {
            "text/html": [
              "<div>\n",
              "<style scoped>\n",
              "    .dataframe tbody tr th:only-of-type {\n",
              "        vertical-align: middle;\n",
              "    }\n",
              "\n",
              "    .dataframe tbody tr th {\n",
              "        vertical-align: top;\n",
              "    }\n",
              "\n",
              "    .dataframe thead th {\n",
              "        text-align: right;\n",
              "    }\n",
              "</style>\n",
              "<table border=\"1\" class=\"dataframe\">\n",
              "  <thead>\n",
              "    <tr style=\"text-align: right;\">\n",
              "      <th></th>\n",
              "      <th>Unnamed: 0</th>\n",
              "      <th>Measurement date</th>\n",
              "      <th>Station code</th>\n",
              "      <th>Address</th>\n",
              "      <th>Latitude</th>\n",
              "      <th>Longitude</th>\n",
              "      <th>SO2</th>\n",
              "      <th>NO2</th>\n",
              "      <th>O3</th>\n",
              "      <th>CO</th>\n",
              "      <th>PM10</th>\n",
              "      <th>PM2.5</th>\n",
              "      <th>class</th>\n",
              "    </tr>\n",
              "  </thead>\n",
              "  <tbody>\n",
              "    <tr>\n",
              "      <th>0</th>\n",
              "      <td>0</td>\n",
              "      <td>2017-01-01 00:00</td>\n",
              "      <td>101</td>\n",
              "      <td>19, Jong-ro 35ga-gil, Jongno-gu, Seoul, Republ...</td>\n",
              "      <td>37.572016</td>\n",
              "      <td>127.005007</td>\n",
              "      <td>0.004</td>\n",
              "      <td>0.059</td>\n",
              "      <td>0.002</td>\n",
              "      <td>1.2</td>\n",
              "      <td>73.0</td>\n",
              "      <td>57.0</td>\n",
              "      <td>Good</td>\n",
              "    </tr>\n",
              "    <tr>\n",
              "      <th>1</th>\n",
              "      <td>1</td>\n",
              "      <td>2017-01-01 01:00</td>\n",
              "      <td>101</td>\n",
              "      <td>19, Jong-ro 35ga-gil, Jongno-gu, Seoul, Republ...</td>\n",
              "      <td>37.572016</td>\n",
              "      <td>127.005007</td>\n",
              "      <td>0.004</td>\n",
              "      <td>0.058</td>\n",
              "      <td>0.002</td>\n",
              "      <td>1.2</td>\n",
              "      <td>71.0</td>\n",
              "      <td>59.0</td>\n",
              "      <td>Good</td>\n",
              "    </tr>\n",
              "    <tr>\n",
              "      <th>2</th>\n",
              "      <td>2</td>\n",
              "      <td>2017-01-01 02:00</td>\n",
              "      <td>101</td>\n",
              "      <td>19, Jong-ro 35ga-gil, Jongno-gu, Seoul, Republ...</td>\n",
              "      <td>37.572016</td>\n",
              "      <td>127.005007</td>\n",
              "      <td>0.004</td>\n",
              "      <td>0.056</td>\n",
              "      <td>0.002</td>\n",
              "      <td>1.2</td>\n",
              "      <td>70.0</td>\n",
              "      <td>59.0</td>\n",
              "      <td>Good</td>\n",
              "    </tr>\n",
              "    <tr>\n",
              "      <th>3</th>\n",
              "      <td>3</td>\n",
              "      <td>2017-01-01 03:00</td>\n",
              "      <td>101</td>\n",
              "      <td>19, Jong-ro 35ga-gil, Jongno-gu, Seoul, Republ...</td>\n",
              "      <td>37.572016</td>\n",
              "      <td>127.005007</td>\n",
              "      <td>0.004</td>\n",
              "      <td>0.056</td>\n",
              "      <td>0.002</td>\n",
              "      <td>1.2</td>\n",
              "      <td>70.0</td>\n",
              "      <td>58.0</td>\n",
              "      <td>Good</td>\n",
              "    </tr>\n",
              "    <tr>\n",
              "      <th>4</th>\n",
              "      <td>4</td>\n",
              "      <td>2017-01-01 04:00</td>\n",
              "      <td>101</td>\n",
              "      <td>19, Jong-ro 35ga-gil, Jongno-gu, Seoul, Republ...</td>\n",
              "      <td>37.572016</td>\n",
              "      <td>127.005007</td>\n",
              "      <td>0.003</td>\n",
              "      <td>0.051</td>\n",
              "      <td>0.002</td>\n",
              "      <td>1.2</td>\n",
              "      <td>69.0</td>\n",
              "      <td>61.0</td>\n",
              "      <td>Good</td>\n",
              "    </tr>\n",
              "  </tbody>\n",
              "</table>\n",
              "</div>"
            ],
            "text/plain": [
              "   Unnamed: 0  Measurement date  Station code  ...  PM10  PM2.5  class\n",
              "0           0  2017-01-01 00:00           101  ...  73.0   57.0   Good\n",
              "1           1  2017-01-01 01:00           101  ...  71.0   59.0   Good\n",
              "2           2  2017-01-01 02:00           101  ...  70.0   59.0   Good\n",
              "3           3  2017-01-01 03:00           101  ...  70.0   58.0   Good\n",
              "4           4  2017-01-01 04:00           101  ...  69.0   61.0   Good\n",
              "\n",
              "[5 rows x 13 columns]"
            ]
          },
          "metadata": {},
          "execution_count": 230
        }
      ]
    },
    {
      "cell_type": "code",
      "source": [
        "X = df.iloc[:, [2, 4, 5, 6, 7, 8, 9, 10, 11]].values\n",
        "y = df.iloc[:, -1].values"
      ],
      "metadata": {
        "id": "aCnEQhw4s-y6"
      },
      "execution_count": 244,
      "outputs": []
    },
    {
      "cell_type": "markdown",
      "source": [
        "## **Preprocesamiento de datos**\n",
        "\n",
        "### **Prepocesamiento 1 - Ejemplo**\n",
        "\n",
        "Transformador de imputación para completar valores perdidos."
      ],
      "metadata": {
        "id": "9Mi_LrpnrEmI"
      }
    },
    {
      "cell_type": "code",
      "source": [
        "from sklearn.impute import SimpleImputer\n",
        "simple = SimpleImputer()\n",
        "simple.fit(X)\n",
        "X_1 = simple.transform(X)\n",
        "X_1"
      ],
      "metadata": {
        "colab": {
          "base_uri": "https://localhost:8080/"
        },
        "id": "uuw5POE6qIHi",
        "outputId": "6a6143e0-2d3a-4721-ab9c-ac0d7d6042de"
      },
      "execution_count": 245,
      "outputs": [
        {
          "output_type": "execute_result",
          "data": {
            "text/plain": [
              "array([[101.       ,  37.5720164, 127.0050075, ...,   1.2      ,\n",
              "         73.       ,  57.       ],\n",
              "       [101.       ,  37.5720164, 127.0050075, ...,   1.2      ,\n",
              "         71.       ,  59.       ],\n",
              "       [101.       ,  37.5720164, 127.0050075, ...,   1.2      ,\n",
              "         70.       ,  59.       ],\n",
              "       ...,\n",
              "       [125.       ,  37.5449625, 127.1367917, ...,   0.4      ,\n",
              "         25.       ,  19.       ],\n",
              "       [125.       ,  37.5449625, 127.1367917, ...,   0.4      ,\n",
              "         24.       ,  17.       ],\n",
              "       [125.       ,  37.5449625, 127.1367917, ...,   0.5      ,\n",
              "         25.       ,  18.       ]])"
            ]
          },
          "metadata": {},
          "execution_count": 245
        }
      ]
    },
    {
      "cell_type": "markdown",
      "source": [
        "### **Prepocesamiento 2 - Ejemplo**\n",
        "\n",
        "Transforme las características escalando cada característica a un rango determinado.\n",
        "\n",
        "Este estimador escala y traduce cada característica individualmente de modo que esté en el rango dado en el conjunto de entrenamiento, p. Ej. entre cero y uno."
      ],
      "metadata": {
        "id": "KF6SG-JSrg-2"
      }
    },
    {
      "cell_type": "code",
      "source": [
        "from sklearn.preprocessing import MinMaxScaler\n",
        "escala=MinMaxScaler()\n",
        "escala.fit(X)\n",
        "X_2 =escala.transform(X)\n",
        "X_2"
      ],
      "metadata": {
        "colab": {
          "base_uri": "https://localhost:8080/"
        },
        "id": "j0X_RmAlcr_K",
        "outputId": "91c90f3a-0f87-495f-a005-879c540e3cd0"
      },
      "execution_count": 246,
      "outputs": [
        {
          "output_type": "execute_result",
          "data": {
            "text/plain": [
              "array([[0.        , 0.57969677, 0.56310927, ..., 0.03026135, 0.02063005,\n",
              "        0.00926962],\n",
              "       [0.        , 0.57969677, 0.56310927, ..., 0.03026135, 0.02007248,\n",
              "        0.00958926],\n",
              "       [0.        , 0.57969677, 0.56310927, ..., 0.03026135, 0.0197937 ,\n",
              "        0.00958926],\n",
              "       ...,\n",
              "       [1.        , 0.44863272, 1.        , ..., 0.01925722, 0.0072484 ,\n",
              "        0.00319642],\n",
              "       [1.        , 0.44863272, 1.        , ..., 0.01925722, 0.00696961,\n",
              "        0.00287678],\n",
              "       [1.        , 0.44863272, 1.        , ..., 0.02063274, 0.0072484 ,\n",
              "        0.0030366 ]])"
            ]
          },
          "metadata": {},
          "execution_count": 246
        }
      ]
    },
    {
      "cell_type": "markdown",
      "source": [
        "### **Prepocesamiento 3 - Valido**\n",
        "\n",
        "Estandarice las características eliminando la media y escalando a la varianza de la unidad.\n",
        "\n",
        "La puntuación estándar de una muestra $x$ se calcula como:\n",
        "\n",
        "$ z = (x - u) / s $\n",
        "\n",
        "Donde $u$ es la media de las muestras de entrenamiento o cero si `with_mean = False`, y $s$ es la desviación estándar de las muestras de entrenamiento o uno si `with_std = False`."
      ],
      "metadata": {
        "id": "CuY06TDjrsfy"
      }
    },
    {
      "cell_type": "code",
      "source": [
        "from sklearn.preprocessing import StandardScaler\n",
        "sc = StandardScaler()\n",
        "X = sc.fit_transform(X)\n",
        "X"
      ],
      "metadata": {
        "colab": {
          "base_uri": "https://localhost:8080/"
        },
        "id": "Vr7Vl5Gwo84Z",
        "outputId": "9d97622d-8aa3-4e88-d2f0-b2e720a5cdaf"
      },
      "execution_count": 247,
      "outputs": [
        {
          "output_type": "execute_result",
          "data": {
            "text/plain": [
              "array([[-1.66408315,  0.34788437,  0.19885863, ...,  1.70434583,\n",
              "         0.4117658 ,  0.7191414 ],\n",
              "       [-1.66408315,  0.34788437,  0.19885863, ...,  1.70434583,\n",
              "         0.38365116,  0.76467397],\n",
              "       [-1.66408315,  0.34788437,  0.19885863, ...,  1.70434583,\n",
              "         0.36959385,  0.76467397],\n",
              "       ...,\n",
              "       [ 1.66402704, -0.1599516 ,  1.87145932, ..., -0.26941053,\n",
              "        -0.26298534, -0.14597758],\n",
              "       [ 1.66402704, -0.1599516 ,  1.87145932, ..., -0.26941053,\n",
              "        -0.27704265, -0.19151016],\n",
              "       [ 1.66402704, -0.1599516 ,  1.87145932, ..., -0.02269099,\n",
              "        -0.26298534, -0.16874387]])"
            ]
          },
          "metadata": {},
          "execution_count": 247
        }
      ]
    },
    {
      "cell_type": "markdown",
      "source": [
        "### **Prepocesamiento 4 - Valido**\n",
        "Codifique las etiquetas de destino con un valor entre 0 y n_classes-1.\n",
        "\n",
        "Este transformador debe usarse para codificar valores objetivo, es decir, $y$, y no la entrada $X$."
      ],
      "metadata": {
        "id": "6g19t_q9semA"
      }
    },
    {
      "cell_type": "code",
      "source": [
        "from sklearn.preprocessing import LabelEncoder \n",
        "le = LabelEncoder()\n",
        "y[:] = le.fit_transform(y[:])\n",
        "y = y.astype('int')"
      ],
      "metadata": {
        "id": "Uk5U3B17tAVk"
      },
      "execution_count": 248,
      "outputs": []
    },
    {
      "cell_type": "markdown",
      "source": [
        "# **Clasificador**\n",
        "El modelo de regresión logística general tiene múltiples variables explicativas que pueden ser cuantitativas, categóricas o ambas. Para las variables explicativas de $ p $, el modelo para las probabilidades logarítmicas es\n",
        "\n",
        "$$ logit [P (Y = 1)] = α + β_1x_1 + β_2x_2 + ··· + β_px_p $$\n",
        "\n",
        "El parámetro $ β_j $ se refiere al efecto de $ x_j $ en las probabilidades de registro de que $ Y = 1 $, ajustando los de los otros $x's$. Por ejemplo, $ \\ exp (β_1) $ es el efecto multiplicativo sobre las probabilidades de un aumento de 1 unidad en $ x_1 $, a un valor fijo para $ β_2x_2 + \\cdots + β_px_p $, como cuando podemos mantener constante $ x_2, ..., x_p $."
      ],
      "metadata": {
        "id": "bJKtSyWqtK_S"
      }
    },
    {
      "cell_type": "markdown",
      "source": [
        "## **Primera Ejecucion**\n",
        "\n"
      ],
      "metadata": {
        "id": "O9DXwZuNs36R"
      }
    },
    {
      "cell_type": "code",
      "source": [
        "from sklearn.model_selection import train_test_split\n",
        "X_train, X_test, y_train, y_test = train_test_split(X, y, test_size=0.2, random_state=0)"
      ],
      "metadata": {
        "id": "8q8EXmXaMfbX"
      },
      "execution_count": 249,
      "outputs": []
    },
    {
      "cell_type": "code",
      "source": [
        "# Crear un objeto de regresión logística, realizar una regresión logística\n",
        "log_reg = LogisticRegression(solver = 'lbfgs', max_iter=1000)\n",
        "log_reg.fit(X_train, y_train)"
      ],
      "metadata": {
        "colab": {
          "base_uri": "https://localhost:8080/"
        },
        "id": "N7wHAyHINfm_",
        "outputId": "14d57d8a-5851-4548-f341-914f16b77908"
      },
      "execution_count": 250,
      "outputs": [
        {
          "output_type": "execute_result",
          "data": {
            "text/plain": [
              "LogisticRegression(max_iter=1000)"
            ]
          },
          "metadata": {},
          "execution_count": 250
        }
      ]
    },
    {
      "cell_type": "code",
      "source": [
        "# Predecir la respuesta para el conjunto de datos de prueba\n",
        "y_pred = log_reg.predict(X_test)"
      ],
      "metadata": {
        "id": "qOp0DABatJL2"
      },
      "execution_count": 251,
      "outputs": []
    },
    {
      "cell_type": "code",
      "source": [
        "from sklearn.metrics import classification_report, confusion_matrix, accuracy_score\n",
        "result = confusion_matrix(y_test, y_pred)\n",
        "print('Confusion Matrix:')\n",
        "print(result)\n",
        "print(\"Exactitud del modelo:\", accuracy_score(y_test, y_pred))"
      ],
      "metadata": {
        "colab": {
          "base_uri": "https://localhost:8080/"
        },
        "id": "5paKgzynSnvI",
        "outputId": "32d97c1e-dc74-409a-e67a-a28772034451"
      },
      "execution_count": 252,
      "outputs": [
        {
          "output_type": "stream",
          "name": "stdout",
          "text": [
            "Confusion Matrix:\n",
            "[[  6291   3293]\n",
            " [  1290 118628]]\n",
            "Exactitud del modelo: 0.9646105851647079\n"
          ]
        }
      ]
    },
    {
      "cell_type": "code",
      "source": [
        "from sklearn.model_selection import StratifiedShuffleSplit\n",
        "cv = StratifiedShuffleSplit(n_splits = 100, test_size=0.2, random_state=0)\n",
        "iter = cv.split(X, y)\n",
        "split = []\n",
        "for index, (train_index, test_index) in enumerate(iter):\n",
        "  print('SPLIT: ', index + 1)\n",
        "  print(\"TRAIN:\", train_index, \"TEST:\", test_index)\n",
        "  X_train, X_test = X[train_index], X[test_index]\n",
        "  y_train, y_test = y[train_index], y[test_index]\n",
        "  log_reg = LogisticRegression(solver = 'lbfgs', max_iter=1000)\n",
        "  log_reg.fit(X_train, y_train)\n",
        "  y_pred = log_reg.predict(X_test)\n",
        "  accuracy = accuracy_score(y_test, y_pred)\n",
        "  split.append(accuracy)\n",
        "  print('Exactitud del Modelo', accuracy)"
      ],
      "metadata": {
        "colab": {
          "base_uri": "https://localhost:8080/"
        },
        "id": "j6IlcaQytFZy",
        "outputId": "8827ef1f-fdb1-457d-f25b-51aef26433b1"
      },
      "execution_count": 262,
      "outputs": [
        {
          "output_type": "stream",
          "name": "stdout",
          "text": [
            "SPLIT:  1\n",
            "TRAIN: [112686 198008  32508 ... 420908 427172 413699] TEST: [623950 594476 592772 ... 516776 410002  81049]\n",
            "Exactitud del Modelo 0.9651356735803308\n",
            "SPLIT:  2\n",
            "TRAIN: [355405  20765 501751 ... 578377 555229 151640] TEST: [309248 135555 558425 ... 534456  49367 239487]\n",
            "Exactitud del Modelo 0.9637920649874133\n",
            "SPLIT:  3\n",
            "TRAIN: [246161 414516 528472 ... 582566 567516 245642] TEST: [376161 526223 472326 ... 150167 173992 372735]\n",
            "Exactitud del Modelo 0.964811354264799\n",
            "SPLIT:  4\n",
            "TRAIN: [ 38546 274323 381864 ... 299471  77379  45302] TEST: [175036 507293 425540 ... 540222 353467 184156]\n",
            "Exactitud del Modelo 0.9646800821608933\n",
            "SPLIT:  5\n",
            "TRAIN: [115220 143626 634247 ... 229104 133437 506096] TEST: [624214 578946 398971 ... 190585 134388 413425]\n",
            "Exactitud del Modelo 0.9643248752915012\n",
            "SPLIT:  6\n",
            "TRAIN: [443149 178789 626826 ... 329673 112308 312380] TEST: [186422  26343 403708 ...   6383 364244  88851]\n",
            "Exactitud del Modelo 0.9648499637071242\n",
            "SPLIT:  7\n",
            "TRAIN: [391626   2412 389556 ... 280531 232544 554987] TEST: [ 81009 505050 153142 ...  50772 331109 425104]\n",
            "Exactitud del Modelo 0.9647264134916835\n",
            "SPLIT:  8\n",
            "TRAIN: [422884 637088 112588 ... 181513 122467 622748] TEST: [ 14204 510835 481944 ... 575606 340731 503129]\n",
            "Exactitud del Modelo 0.9646028632762428\n",
            "SPLIT:  9\n",
            "TRAIN: [473679 514029 210576 ...  31898 224444 475557] TEST: [405523 634723 221257 ... 384238 386135 114120]\n",
            "Exactitud del Modelo 0.9645102006146623\n",
            "SPLIT:  10\n",
            "TRAIN: [200086  59494  54102 ...  83739  28149 137274] TEST: [466566  20085 267410 ... 470020  21292 596530]\n",
            "Exactitud del Modelo 0.9650661765841454\n",
            "SPLIT:  11\n",
            "TRAIN: [382892 354781 539962 ...  90786 519426 290486] TEST: [   477  83728 526700 ... 490820 569992 276680]\n",
            "Exactitud del Modelo 0.9650352890302852\n",
            "SPLIT:  12\n",
            "TRAIN: [ 68270 552311 559889 ... 217505 309626  66835] TEST: [219754 182574 590468 ... 280774 358238 283175]\n",
            "Exactitud del Modelo 0.9639773903105744\n",
            "SPLIT:  13\n",
            "TRAIN: [418474 407578 364007 ... 560714 340340 236482] TEST: [373191 239009 624381 ... 612536 172194 542668]\n",
            "Exactitud del Modelo 0.9642090469645257\n",
            "SPLIT:  14\n",
            "TRAIN: [544363 403036 524590 ...  10640 481845 299738] TEST: [443322 574826  11596 ...  22087  68092 169385]\n",
            "Exactitud del Modelo 0.9647495791570787\n",
            "SPLIT:  15\n",
            "TRAIN: [191290 173043 623316 ... 136509  30647 411894] TEST: [588707  75084 323327 ...  61354  74095 555966]\n",
            "Exactitud del Modelo 0.9639696684221093\n",
            "SPLIT:  16\n",
            "TRAIN: [350454 235643 621050 ... 534176 183464 298707] TEST: [277478 531820 567481 ... 262084   4984 204090]\n",
            "Exactitud del Modelo 0.9650584546956804\n",
            "SPLIT:  17\n",
            "TRAIN: [612338 594430 153220 ... 384850 629798 127195] TEST: [104398  47310 232947 ... 631730  69640 545237]\n",
            "Exactitud del Modelo 0.9641549937452704\n",
            "SPLIT:  18\n",
            "TRAIN: [568719 128325 410640 ... 181857 598818  77590] TEST: [496146 430014 569276 ... 479680 160863 530783]\n",
            "Exactitud del Modelo 0.9648731293725193\n",
            "SPLIT:  19\n",
            "TRAIN: [ 23698 146283 573221 ... 125562 307876 504032] TEST: [448689 535058 523182 ... 460962  25520 583878]\n",
            "Exactitud del Modelo 0.9635835739988572\n",
            "SPLIT:  20\n",
            "TRAIN: [  5439 591281 412414 ... 188861  42457 557256] TEST: [105899 643401 319305 ... 167728 420957 579773]\n",
            "Exactitud del Modelo 0.9648499637071242\n",
            "SPLIT:  21\n",
            "TRAIN: [635869 118917 144849 ... 228964 295263 189909] TEST: [230841 186295 226629 ... 526102  55178 339527]\n",
            "Exactitud del Modelo 0.9647804667109389\n",
            "SPLIT:  22\n",
            "TRAIN: [322575 367007  53188 ... 313676 622560  87145] TEST: [386923   6933 571550 ... 304614 378408 527683]\n",
            "Exactitud del Modelo 0.9649503482571697\n",
            "SPLIT:  23\n",
            "TRAIN: [262090 222150 147148 ... 632769 269045 112918] TEST: [357230  73603 110123 ... 220206 271827 277033]\n",
            "Exactitud del Modelo 0.9640623310836898\n",
            "SPLIT:  24\n",
            "TRAIN: [433672 487645 424453 ... 238354 604262 566968] TEST: [575878 302078 498138 ... 111166 380836 363478]\n",
            "Exactitud del Modelo 0.9650507328072153\n",
            "SPLIT:  25\n",
            "TRAIN: [462417 398657 119712 ... 541606 547874  54728] TEST: [444603 383928 288212 ... 605435 176099 143150]\n",
            "Exactitud del Modelo 0.964641472718568\n",
            "SPLIT:  26\n",
            "TRAIN: [408260 402999    442 ... 319982 304240 313369] TEST: [189842 328398 111580 ... 380229 423683 387650]\n",
            "Exactitud del Modelo 0.9647804667109389\n",
            "SPLIT:  27\n",
            "TRAIN: [555505 135290 218066 ...  29270 330888  11010] TEST: [573939 562825 221289 ... 451676 172702  80053]\n",
            "Exactitud del Modelo 0.9643557628453615\n",
            "SPLIT:  28\n",
            "TRAIN: [170454 502634 422062 ... 490055 279346 559997] TEST: [347662  95526 508464 ... 483587 442071  40925]\n",
            "Exactitud del Modelo 0.9643943722876867\n",
            "SPLIT:  29\n",
            "TRAIN: [393446 503064 257687 ... 275995 406093 642747] TEST: [482577 253662 496682 ... 230535 434435 379913]\n",
            "Exactitud del Modelo 0.9645642538339176\n",
            "SPLIT:  30\n",
            "TRAIN: [ 14873 299445 148403 ... 262439 218968 331331] TEST: [239520 438526 145860 ... 518487 458306 499154]\n",
            "Exactitud del Modelo 0.9646491946070331\n",
            "SPLIT:  31\n",
            "TRAIN: [619714 640090 466112 ... 102019  39069 568414] TEST: [ 31703 622771 361219 ... 201458  19508  94260]\n",
            "Exactitud del Modelo 0.9644252598415468\n",
            "SPLIT:  32\n",
            "TRAIN: [ 56779 272384 590743 ... 645495  43571 380355] TEST: [553345 606257 266815 ... 596057 182933 297753]\n",
            "Exactitud del Modelo 0.9642862658491761\n",
            "SPLIT:  33\n",
            "TRAIN: [300596 567006 353670 ...  18798 209527 463652] TEST: [   346 268412 490091 ... 307631   7665 213392]\n",
            "Exactitud del Modelo 0.9644715911723372\n",
            "SPLIT:  34\n",
            "TRAIN: [311374 570384 177988 ... 357050 603135 280971] TEST: [462299 357623  79817 ... 581326 322836 574992]\n",
            "Exactitud del Modelo 0.964811354264799\n",
            "SPLIT:  35\n",
            "TRAIN: [266913 191215 163905 ... 321189  88265 611852] TEST: [450180 455481 217768 ... 235143 573235 506000]\n",
            "Exactitud del Modelo 0.9645642538339176\n",
            "SPLIT:  36\n",
            "TRAIN: [332491 438357 570751 ... 477916 360139 599114] TEST: [104985 346351 521839 ... 137941 283211 536046]\n",
            "Exactitud del Modelo 0.9637997868758784\n",
            "SPLIT:  37\n",
            "TRAIN: [236273 449265 302281 ... 155285 491901  29083] TEST: [101679 537128 531008 ... 396599 637000 584327]\n",
            "Exactitud del Modelo 0.9638538400951336\n",
            "SPLIT:  38\n",
            "TRAIN: [170488  84030 149797 ... 554723 492482 162426] TEST: [ 42530 361232 645201 ...  51067 588940 211880]\n",
            "Exactitud del Modelo 0.9645410881685225\n",
            "SPLIT:  39\n",
            "TRAIN: [519073  81228 104483 ...  31669 555968 191936] TEST: [274108 362729 100935 ...  95859 531305 306707]\n",
            "Exactitud del Modelo 0.963923337091319\n",
            "SPLIT:  40\n",
            "TRAIN: [639245 446392 501883 ...   2108 457409 296188] TEST: [526816 328890 486353 ... 175452 607266 452287]\n",
            "Exactitud del Modelo 0.9641549937452704\n",
            "SPLIT:  41\n",
            "TRAIN: [389876 506094 507104 ... 366566 307037 259877] TEST: [240524 359310 252698 ... 215873  18490 509803]\n",
            "Exactitud del Modelo 0.9646878040493583\n",
            "SPLIT:  42\n",
            "TRAIN: [199535 631646  99463 ... 501615 610017 264965] TEST: [281938 102308  56086 ... 249492 364968 533397]\n",
            "Exactitud del Modelo 0.9650430109187503\n",
            "SPLIT:  43\n",
            "TRAIN: [393791  66589  19230 ...  14586 384529 163933] TEST: [ 11775 368531 559292 ... 437339 403304 191410]\n",
            "Exactitud del Modelo 0.9645256443915924\n",
            "SPLIT:  44\n",
            "TRAIN: [364882 574359 183710 ... 114148 199653 216445] TEST: [143026 407829 476764 ... 308573  13826 405649]\n",
            "Exactitud del Modelo 0.9654059396766073\n",
            "SPLIT:  45\n",
            "TRAIN: [227284 426530 177892 ... 196133 522373  18910] TEST: [237308 293082  55441 ... 577387 555036 206497]\n",
            "Exactitud del Modelo 0.9646646383839632\n",
            "SPLIT:  46\n",
            "TRAIN: [497181 477295 624731 ... 489055 217357  86156] TEST: [114173 598032 537090 ...  99380 375770 160797]\n",
            "Exactitud del Modelo 0.9645488100569876\n",
            "SPLIT:  47\n",
            "TRAIN: [186941 266136 589796 ... 432460 479176 625645] TEST: [ 88416 348349 598481 ... 424512 580835   9376]\n",
            "Exactitud del Modelo 0.9645179225031274\n",
            "SPLIT:  48\n",
            "TRAIN: [497870 471173  25887 ...   5520 485116 603757] TEST: [516203 561389 240758 ... 637187 315858 635173]\n",
            "Exactitud del Modelo 0.9648499637071242\n",
            "SPLIT:  49\n",
            "TRAIN: [286867 635086 479820 ... 545672 553415 567268] TEST: [225827 218817 250054 ... 168795 362791  95182]\n",
            "Exactitud del Modelo 0.9643866503992217\n",
            "SPLIT:  50\n",
            "TRAIN: [544035 575369 347445 ...  57748 505732 524888] TEST: [156364 565480 383507 ... 204215 611168 624950]\n",
            "Exactitud del Modelo 0.9652592237957714\n",
            "SPLIT:  51\n",
            "TRAIN: [ 41004 455307 374797 ... 509492 229563 230422] TEST: [481338 149966 637111 ... 401666 253963 622434]\n",
            "Exactitud del Modelo 0.9643789285107566\n",
            "SPLIT:  52\n",
            "TRAIN: [149401 643784 273631 ... 497328 237999 262867] TEST: [438556 143047 559215 ... 466034 306025 144570]\n",
            "Exactitud del Modelo 0.9644407036184769\n",
            "SPLIT:  53\n",
            "TRAIN: [  8103 129351 466244 ... 560598 288895 226554] TEST: [622466 228147 458305 ... 647220 224790 161148]\n",
            "Exactitud del Modelo 0.9650738984726105\n",
            "SPLIT:  54\n",
            "TRAIN: [435573  40157 175844 ... 604784 115670 197717] TEST: [607360 372442 305962 ... 439636 203504 483054]\n",
            "Exactitud del Modelo 0.9645796976108477\n",
            "SPLIT:  55\n",
            "TRAIN: [159208 608866 284200 ... 438575 460066 207348] TEST: [254907 119659 282951 ... 419360  93064 207893]\n",
            "Exactitud del Modelo 0.9636144615527173\n",
            "SPLIT:  56\n",
            "TRAIN: [404377 512944 555164 ... 174189 323250 317565] TEST: [ 67318 222731 271866 ... 234643 174311 126629]\n",
            "Exactitud del Modelo 0.964270822072246\n",
            "SPLIT:  57\n",
            "TRAIN: [157914 344336 490867 ... 136527 421859 384263] TEST: [143411 430245  83165 ...  11389 365119 104896]\n",
            "Exactitud del Modelo 0.9642090469645257\n",
            "SPLIT:  58\n",
            "TRAIN: [135324 224156 537678 ... 100596 165485 112580] TEST: [426620 452551 440200 ... 499973 350380 168543]\n",
            "Exactitud del Modelo 0.9642167688529907\n",
            "SPLIT:  59\n",
            "TRAIN: [516338 352768  42009 ... 412533 323718 330391] TEST: [ 17723 155962 195422 ... 240566 385779 227042]\n",
            "Exactitud del Modelo 0.964456147395407\n",
            "SPLIT:  60\n",
            "TRAIN: [124614 632368 607202 ... 190738 418285 391898] TEST: [291437 294849 459586 ... 208487  22508 119687]\n",
            "Exactitud del Modelo 0.9644870349492672\n",
            "SPLIT:  61\n",
            "TRAIN: [547999 482621 410402 ...  48719 147501  91811] TEST: [243031 504945 195962 ...  51391  75951 621171]\n",
            "Exactitud del Modelo 0.9652128924649812\n",
            "SPLIT:  62\n",
            "TRAIN: [ 90723 502554 530789 ... 215414 233271 187002] TEST: [ 66331 420901 162717 ... 139058 280779 273627]\n",
            "Exactitud del Modelo 0.9641549937452704\n",
            "SPLIT:  63\n",
            "TRAIN: [160592 408033 457886 ... 243283  78165 322415] TEST: [408096 336980 547226 ... 262479 208184 567161]\n",
            "Exactitud del Modelo 0.9644175379530818\n",
            "SPLIT:  64\n",
            "TRAIN: [265884 206738 156701 ... 165719 428827 377130] TEST: [115226 243747 322252 ...  83986 255146 551760]\n",
            "Exactitud del Modelo 0.9647495791570787\n",
            "SPLIT:  65\n",
            "TRAIN: [442944 314637 450557 ...  63440 382647 218530] TEST: [476092 545807 399419 ... 547956 147354  69202]\n",
            "Exactitud del Modelo 0.9644715911723372\n",
            "SPLIT:  66\n",
            "TRAIN: [463063 585231 149412 ... 418911 109157 342232] TEST: [547333  83403  53168 ... 290782 507542 195509]\n",
            "Exactitud del Modelo 0.9651742830226561\n",
            "SPLIT:  67\n",
            "TRAIN: [532438 569855 398048 ... 632344 450808 558210] TEST: [403208 319749  10976 ... 580875 323246 440353]\n",
            "Exactitud del Modelo 0.9642631001837809\n",
            "SPLIT:  68\n",
            "TRAIN: [521289 434047 533895 ... 359653  29855 316016] TEST: [402567 204646  25899 ... 484772 274478 597783]\n",
            "Exactitud del Modelo 0.9649349044802397\n",
            "SPLIT:  69\n",
            "TRAIN: [413345 472815 355117 ... 321894  49282 604575] TEST: [294046 429294 643647 ... 441305 198084 292908]\n",
            "Exactitud del Modelo 0.9646028632762428\n",
            "SPLIT:  70\n",
            "TRAIN: [443819  64156 363859 ... 201471 589777 623269] TEST: [570002 488801 217355 ... 388109 632798 215643]\n",
            "Exactitud del Modelo 0.9641781594106654\n",
            "SPLIT:  71\n",
            "TRAIN: [641534 370664  96656 ... 465642 282437 207087] TEST: [412921 140988 380693 ... 474818  30773 453587]\n",
            "Exactitud del Modelo 0.9643171534030363\n",
            "SPLIT:  72\n",
            "TRAIN: [185885 485070 282973 ...  23094 153063 612465] TEST: [452541 495248 231278 ...  37939 578759 385326]\n",
            "Exactitud del Modelo 0.9647109697147535\n",
            "SPLIT:  73\n",
            "TRAIN: [299811 244310 558722 ... 606008 267730 330478] TEST: [ 70300 520769 388718 ...  55937 629246 568937]\n",
            "Exactitud del Modelo 0.9641472718568053\n",
            "SPLIT:  74\n",
            "TRAIN: [367548 245094 287187 ... 641992 420171 249106] TEST: [474349 229437 151527 ... 564560  98581 379389]\n",
            "Exactitud del Modelo 0.964641472718568\n",
            "SPLIT:  75\n",
            "TRAIN: [247888  78715 366574 ... 380773  30292   3126] TEST: [525967 511854 163900 ...  10423 500002 408823]\n",
            "Exactitud del Modelo 0.9649117388148446\n",
            "SPLIT:  76\n",
            "TRAIN: [324910  94730   2903 ... 139584 110718 376074] TEST: [439318 622418  13530 ... 614976 430245 415379]\n",
            "Exactitud del Modelo 0.964795910487869\n",
            "SPLIT:  77\n",
            "TRAIN: [229533   2223 647227 ... 142544 436962 358859] TEST: [411536  44117  40977 ... 424729 452289 159110]\n",
            "Exactitud del Modelo 0.9647727448224738\n",
            "SPLIT:  78\n",
            "TRAIN: [504789 533570  35668 ...  64018 102394 331960] TEST: [332979 294821  33938 ... 193005 324505 626271]\n",
            "Exactitud del Modelo 0.9648808512609844\n",
            "SPLIT:  79\n",
            "TRAIN: [118196 393794 185441 ... 602139 515856  59652] TEST: [173259 449746 342770 ... 478352  72953 487665]\n",
            "Exactitud del Modelo 0.9644175379530818\n",
            "SPLIT:  80\n",
            "TRAIN: [629571 581848 380451 ... 296618 519979 207475] TEST: [408118 104494 168496 ... 224190 361424  91605]\n",
            "Exactitud del Modelo 0.9643248752915012\n",
            "SPLIT:  81\n",
            "TRAIN: [553460 223289 306288 ... 502002 503575  51412] TEST: [144734 607886 217297 ... 327327  83124 449712]\n",
            "Exactitud del Modelo 0.9644407036184769\n",
            "SPLIT:  82\n",
            "TRAIN: [209467 348946 467420 ... 348899 107984 229345] TEST: [423217 136658 109164 ... 170952 510238 263017]\n",
            "Exactitud del Modelo 0.9644252598415468\n",
            "SPLIT:  83\n",
            "TRAIN: [ 31189 384487 528522 ...  55094 298471 116938] TEST: [389779 248692 423949 ... 471450 346582 605825]\n",
            "Exactitud del Modelo 0.9646028632762428\n",
            "SPLIT:  84\n",
            "TRAIN: [492722 386366 484196 ... 257677 434613  30521] TEST: [ 34066 299652 451234 ... 456870 132403 239183]\n",
            "Exactitud del Modelo 0.964811354264799\n",
            "SPLIT:  85\n",
            "TRAIN: [375969  86371 266881 ... 389898   9953 514526] TEST: [135371  79288 339857 ... 131677 515022 182548]\n",
            "Exactitud del Modelo 0.9647186916032184\n",
            "SPLIT:  86\n",
            "TRAIN: [ 93596 266449 473898 ... 596503 454205  86068] TEST: [ 87589 364126 517712 ... 319839 342237 218668]\n",
            "Exactitud del Modelo 0.9646878040493583\n",
            "SPLIT:  87\n",
            "TRAIN: [110948 370344 322691 ... 107048 502459 165703] TEST: [367894 163086 602517 ... 162659  16663 275338]\n",
            "Exactitud del Modelo 0.964641472718568\n",
            "SPLIT:  88\n",
            "TRAIN: [447529 548499 168676 ...  66907 151244 561958] TEST: [387763 416011  55125 ...  65023 398685 271291]\n",
            "Exactitud del Modelo 0.9641163843029451\n",
            "SPLIT:  89\n",
            "TRAIN: [214301 586467 406771 ... 199792  79640 625975] TEST: [554149 199515 105997 ... 639466 124011 315887]\n",
            "Exactitud del Modelo 0.9642862658491761\n",
            "SPLIT:  90\n",
            "TRAIN: [ 57872 472007 633496 ... 377206 488046  46352] TEST: [116586 466198 322851 ... 386222 460867 617629]\n",
            "Exactitud del Modelo 0.9650584546956804\n",
            "SPLIT:  91\n",
            "TRAIN: [402901 409914 126717 ...  56582 300021 161153] TEST: [360556 641001 428081 ... 136334 471712 179725]\n",
            "Exactitud del Modelo 0.9651511173572609\n",
            "SPLIT:  92\n",
            "TRAIN: [160516 214317 414486 ... 552442 636320  15358] TEST: [356607 616738 333499 ... 163202 307960 470262]\n",
            "Exactitud del Modelo 0.9642399345183859\n",
            "SPLIT:  93\n",
            "TRAIN: [234378 540285 307587 ... 629624 535072 248919] TEST: [246746 257296 231907 ...  40944 122725 293640]\n",
            "Exactitud del Modelo 0.964819076153264\n",
            "SPLIT:  94\n",
            "TRAIN: [302788 351120 146277 ... 135178 220897 287761] TEST: [114374 625771 414271 ... 198795 524132 641933]\n",
            "Exactitud del Modelo 0.9643634847338265\n",
            "SPLIT:  95\n",
            "TRAIN: [451867 224162  12712 ... 444142 562273 133962] TEST: [ 36865 534880 266225 ...  13832 512721  34093]\n",
            "Exactitud del Modelo 0.9638461182066687\n",
            "SPLIT:  96\n",
            "TRAIN: [150505 453998 296523 ... 216325 543431 459251] TEST: [591582 359783 484035 ... 605345 487438 313027]\n",
            "Exactitud del Modelo 0.9651356735803308\n",
            "SPLIT:  97\n",
            "TRAIN: [591940 164899 159445 ... 110194 400218  74572] TEST: [554359  33208 364386 ... 473586   2325 111518]\n",
            "Exactitud del Modelo 0.9644020941761517\n",
            "SPLIT:  98\n",
            "TRAIN: [ 81146 399600 423180 ... 255425 228508 589671] TEST: [ 64711 301292 503263 ... 290639 328378 553010]\n",
            "Exactitud del Modelo 0.9642167688529907\n",
            "SPLIT:  99\n",
            "TRAIN: [480014 173130 279256 ... 477961 551645 622970] TEST: [377400 116524 620138 ... 432844  61066 324324]\n",
            "Exactitud del Modelo 0.9644252598415468\n",
            "SPLIT:  100\n",
            "TRAIN: [512409  10361 449808 ... 598958 193672 443302] TEST: [351106 572583 314495 ... 111382 394521  65705]\n",
            "Exactitud del Modelo 0.9651047860264707\n"
          ]
        }
      ]
    },
    {
      "cell_type": "code",
      "source": [
        "split = np.array(split)\n",
        "print('Primera ejecucion 80(train) - 20(test)')\n",
        "print('Mediana de la Confiabilidad: ', np.median(split))"
      ],
      "metadata": {
        "colab": {
          "base_uri": "https://localhost:8080/"
        },
        "id": "MLvt_RJ7UBvG",
        "outputId": "5e9e0a19-4189-4d36-f8d4-aefd607bff8c"
      },
      "execution_count": 263,
      "outputs": [
        {
          "output_type": "stream",
          "name": "stdout",
          "text": [
            "Primera ejecucion 80(train) - 20(test)\n",
            "Mediana de la Confiabilidad:  0.9645565319454525\n"
          ]
        }
      ]
    },
    {
      "cell_type": "code",
      "source": [
        "cv = StratifiedShuffleSplit(n_splits = 100, test_size=0.5, random_state=0)\n",
        "iter = cv.split(X, y)\n",
        "split_2 = []\n",
        "for index, (train_index, test_index) in enumerate(iter):\n",
        "  print('SPLIT: ', index + 1)\n",
        "  print(\"TRAIN:\", train_index, \"TEST:\", test_index)\n",
        "  X_train, X_test = X[train_index], X[test_index]\n",
        "  y_train, y_test = y[train_index], y[test_index]\n",
        "  log_reg = LogisticRegression(solver = 'lbfgs', max_iter=1000)\n",
        "  log_reg.fit(X_train, y_train)\n",
        "  y_pred = log_reg.predict(X_test)\n",
        "  accuracy = accuracy_score(y_test, y_pred)\n",
        "  split_2.append(accuracy)\n",
        "  print('Exactitud del Modelo', accuracy)\n"
      ],
      "metadata": {
        "colab": {
          "base_uri": "https://localhost:8080/"
        },
        "id": "qWIBrJqvVyET",
        "outputId": "ebe2c380-9054-43c6-9225-8193f98646ad"
      },
      "execution_count": 265,
      "outputs": [
        {
          "output_type": "stream",
          "name": "stdout",
          "text": [
            "SPLIT:  1\n",
            "TRAIN: [515898 263945 402627 ... 408913 139508  37600] TEST: [170239 631015 291453 ...  76455 288151 589059]\n",
            "Exactitud del Modelo 0.9648777625055984\n",
            "SPLIT:  2\n",
            "TRAIN: [404763 174232 624126 ... 267864 270561  58844] TEST: [  6027 142932  74813 ... 356535 158453 185879]\n",
            "Exactitud del Modelo 0.964627573319331\n",
            "SPLIT:  3\n",
            "TRAIN: [242487  21856 364320 ... 603612 626892 421699] TEST: [401763 316095 572419 ... 622212 447926 541270]\n",
            "Exactitud del Modelo 0.964979691433337\n",
            "SPLIT:  4\n",
            "TRAIN: [342340  95864 445978 ... 623319 313287 183261] TEST: [445709 186780 290310 ... 403172 380401  73855]\n",
            "Exactitud del Modelo 0.9643619403561335\n",
            "SPLIT:  5\n",
            "TRAIN: [250791  25073 558351 ... 180686 586396  17415] TEST: [  2411 379535 185373 ... 417283 551633 300691]\n",
            "Exactitud del Modelo 0.9648623187286682\n",
            "SPLIT:  6\n",
            "TRAIN: [313203  91195 187763 ... 538819 398612 411591] TEST: [413673 581302 126284 ...  24438 407171 258140]\n",
            "Exactitud del Modelo 0.9651094191595496\n",
            "SPLIT:  7\n",
            "TRAIN: [378704 623658 109284 ... 598291 324837 373699] TEST: [130832  30311 149649 ...  66587 267653 606158]\n",
            "Exactitud del Modelo 0.9646461058516471\n",
            "SPLIT:  8\n",
            "TRAIN: [530916 223379 278086 ... 106312 640408 621853] TEST: [470077   2660 529350 ...  81316 203317 576327]\n",
            "Exactitud del Modelo 0.9645071118592763\n",
            "SPLIT:  9\n",
            "TRAIN: [205540 254467 166806 ... 418037  49760  95174] TEST: [449434 642987 541014 ... 326572  35543 211336]\n",
            "Exactitud del Modelo 0.9645750644777686\n",
            "SPLIT:  10\n",
            "TRAIN: [523417 505997  14809 ... 424112 259840 377119] TEST: [427826 158113 586858 ... 314047  70002 440920]\n",
            "Exactitud del Modelo 0.9644793130608021\n",
            "SPLIT:  11\n",
            "TRAIN: [619552  54713 455028 ...  96330 570960 616551] TEST: [439245 102278 491632 ...  26716 631415  33842]\n",
            "Exactitud del Modelo 0.9645379994131364\n",
            "SPLIT:  12\n",
            "TRAIN: [622558 187924  69207 ... 624666 102025 404915] TEST: [495186 615567 146910 ... 302176 336967 503647]\n",
            "Exactitud del Modelo 0.9645657982116106\n",
            "SPLIT:  13\n",
            "TRAIN: [502747 363398 616355 ... 342941  59468  64278] TEST: [145657 290020 645385 ... 308659 144532 367051]\n",
            "Exactitud del Modelo 0.9643094315145712\n",
            "SPLIT:  14\n",
            "TRAIN: [ 97148 640231 247296 ... 602165 126821 178042] TEST: [245626  85562 536897 ... 579116 183584 469440]\n",
            "Exactitud del Modelo 0.9643156090253432\n",
            "SPLIT:  15\n",
            "TRAIN: [124436 493378 393727 ... 362963 275979 212869] TEST: [558111 287019 173837 ... 468288 315170  39865]\n",
            "Exactitud del Modelo 0.9648036323763339\n",
            "SPLIT:  16\n",
            "TRAIN: [368568 280340 500893 ... 353967 515888 541267] TEST: [598671 493736 418660 ... 280640 461767  37288]\n",
            "Exactitud del Modelo 0.9647078809593674\n",
            "SPLIT:  17\n",
            "TRAIN: [391581 479296 385995 ... 581382 499085 253077] TEST: [ 31339 190766 180366 ... 185698 416820 110190]\n",
            "Exactitud del Modelo 0.9647665673117017\n",
            "SPLIT:  18\n",
            "TRAIN: [ 11568  45910 268887 ...  43330  80294 146245] TEST: [261032 586061 646453 ... 261807 157549 366201]\n",
            "Exactitud del Modelo 0.9646893484270513\n",
            "SPLIT:  19\n",
            "TRAIN: [199646 334941 621248 ... 187099 208345 128748] TEST: [316749  46694 310697 ... 239285 534713 322746]\n",
            "Exactitud del Modelo 0.9641920588099026\n",
            "SPLIT:  20\n",
            "TRAIN: [ 56910  73065 274376 ...  71138 333792 233013] TEST: [460293 104418  18502 ... 564537 541636 272036]\n",
            "Exactitud del Modelo 0.96444224799617\n",
            "SPLIT:  21\n",
            "TRAIN: [121599 309553 501408 ... 230630 176230 446603] TEST: [ 30291 294421 295909 ... 421886 432039 342620]\n",
            "Exactitud del Modelo 0.9643650291115196\n",
            "SPLIT:  22\n",
            "TRAIN: [103391 264789 553531 ... 558434 252651 177993] TEST: [430344 418061 638489 ... 334794  31173  89319]\n",
            "Exactitud del Modelo 0.9643248752915012\n",
            "SPLIT:  23\n",
            "TRAIN: [158743 574316 484102 ... 504335 366209 317927] TEST: [419835 180869 512624 ... 243443 625821 525049]\n",
            "Exactitud del Modelo 0.9646739046501213\n",
            "SPLIT:  24\n",
            "TRAIN: [439876 211944 230739 ... 482954 287782 352131] TEST: [283866 540093 589817 ... 141643 489695   1214]\n",
            "Exactitud del Modelo 0.9646677271393492\n",
            "SPLIT:  25\n",
            "TRAIN: [238901  80091 581292 ... 526033 176249 167836] TEST: [565927 217708 362417 ... 219869  20930 135167]\n",
            "Exactitud del Modelo 0.964278543960711\n",
            "SPLIT:  26\n",
            "TRAIN: [382616 555025  88426 ... 199541 278643 631977] TEST: [545307 502863  14916 ...  91357 174769  49279]\n",
            "Exactitud del Modelo 0.9643928279099937\n",
            "SPLIT:  27\n",
            "TRAIN: [549700 126662 340579 ...  31247  55893 294901] TEST: [447623 223051 298208 ... 541389 641812 449149]\n",
            "Exactitud del Modelo 0.9643588516007475\n",
            "SPLIT:  28\n",
            "TRAIN: [606716 526597 303782 ... 499731 498133 458988] TEST: [165316 162846 363088 ... 470931 272746 209886]\n",
            "Exactitud del Modelo 0.9643526740899755\n",
            "SPLIT:  29\n",
            "TRAIN: [162938 590864 459737 ... 578978 615245 437564] TEST: [129836 235946 503963 ...  18630  40275 156570]\n",
            "Exactitud del Modelo 0.9648839400163705\n",
            "SPLIT:  30\n",
            "TRAIN: [405148 302457  34774 ... 433046 487889 383928] TEST: [289922 555766   2376 ... 244079 470176 404265]\n",
            "Exactitud del Modelo 0.9643650291115196\n",
            "SPLIT:  31\n",
            "TRAIN: [473849   7803 338070 ... 150943 535116 382565] TEST: [216861 422276 542724 ... 555326 438172   7296]\n",
            "Exactitud del Modelo 0.9644700467946441\n",
            "SPLIT:  32\n",
            "TRAIN: [431314 389500 524489 ...  95194 172993 529545] TEST: [511394  82010 646378 ... 534560 426976 201538]\n",
            "Exactitud del Modelo 0.9645657982116106\n",
            "SPLIT:  33\n",
            "TRAIN: [643540 516136 455290 ... 420044 236015 123249] TEST: [157173 620594 457257 ... 207360 158264 109277]\n",
            "Exactitud del Modelo 0.9646461058516471\n",
            "SPLIT:  34\n",
            "TRAIN: [516866 400599 294001 ... 376351  21172 377516] TEST: [220932 577071 189748 ...  48582  63360 572797]\n",
            "Exactitud del Modelo 0.9640190885082855\n",
            "SPLIT:  35\n",
            "TRAIN: [576972 544712 263466 ... 178122    350 375066] TEST: [ 77808 511643 447622 ... 247418 335610 366037]\n",
            "Exactitud del Modelo 0.9645874194993127\n",
            "SPLIT:  36\n",
            "TRAIN: [630488 443929  23608 ... 249383 547596 126470] TEST: [605694 226426 187769 ... 103749 484127 483802]\n",
            "Exactitud del Modelo 0.9643032540037991\n",
            "SPLIT:  37\n",
            "TRAIN: [421989 247433 329637 ...  54584   7508 233017] TEST: [ 27823 645845 385645 ... 295265 353233 586048]\n",
            "Exactitud del Modelo 0.9650322002748992\n",
            "SPLIT:  38\n",
            "TRAIN: [615215 403798 414525 ... 158923 491278 252570] TEST: [383400 501019 520161 ... 575045 506947 308505]\n",
            "Exactitud del Modelo 0.9640592423283038\n",
            "SPLIT:  39\n",
            "TRAIN: [  5004 149420 504881 ... 452497 618569 631307] TEST: [118734 123466 574637 ... 586835 218639 570331]\n",
            "Exactitud del Modelo 0.9643866503992217\n",
            "SPLIT:  40\n",
            "TRAIN: [178698  59070 409286 ... 483026 186254 344620] TEST: [124083  69438  17412 ... 540739 128211 485166]\n",
            "Exactitud del Modelo 0.9640592423283038\n",
            "SPLIT:  41\n",
            "TRAIN: [611387 572174 637556 ... 470161 639031 154554] TEST: [510589 538019 199842 ... 563039 362470 569691]\n",
            "Exactitud del Modelo 0.9648654074840542\n",
            "SPLIT:  42\n",
            "TRAIN: [452469 575868  12468 ... 126841 187626 603017] TEST: [456152 266788 447582 ... 413004 206801 270318]\n",
            "Exactitud del Modelo 0.9643835616438357\n",
            "SPLIT:  43\n",
            "TRAIN: [176741 117231 615178 ... 310401 222838 158189] TEST: [645484 446851 493858 ... 500197 280293 574251]\n",
            "Exactitud del Modelo 0.9644978455931182\n",
            "SPLIT:  44\n",
            "TRAIN: [550911 425858 182163 ... 295199  44434 615181] TEST: [ 19872 496368 327221 ... 289597 147174 140002]\n",
            "Exactitud del Modelo 0.9643464965792035\n",
            "SPLIT:  45\n",
            "TRAIN: [529019  40503 345628 ... 353302 504996 644896] TEST: [276137 212329 236115 ... 264545 515618 161015]\n",
            "Exactitud del Modelo 0.9641024849037081\n",
            "SPLIT:  46\n",
            "TRAIN: [254207  89867 456965 ... 376344 259425 500386] TEST: [142840   8512 209814 ... 495484 414823 597821]\n",
            "Exactitud del Modelo 0.9645688869669966\n",
            "SPLIT:  47\n",
            "TRAIN: [213547 480102  50735 ...  86299  13281 411712] TEST: [592980 379901 409115 ... 112513 318212 420339]\n",
            "Exactitud del Modelo 0.9646769934055073\n",
            "SPLIT:  48\n",
            "TRAIN: [173842 333829 484979 ...  42436 501449 459588] TEST: [464352 419903 133732 ... 571598 192140 313660]\n",
            "Exactitud del Modelo 0.9647078809593674\n",
            "SPLIT:  49\n",
            "TRAIN: [467626 300151 483463 ... 163280  51495 228400] TEST: [416332 508951 304733 ...  77270  18885 406646]\n",
            "Exactitud del Modelo 0.9646491946070331\n",
            "SPLIT:  50\n",
            "TRAIN: [328768 519853 330430 ... 110860  56576 381462] TEST: [561868 465523 605983 ... 584081 353498 469844]\n",
            "Exactitud del Modelo 0.9645534431900665\n",
            "SPLIT:  51\n",
            "TRAIN: [279914 641309 228000 ... 161972  78088 214195] TEST: [ 53214 167410 294973 ... 211513 634458 285940]\n",
            "Exactitud del Modelo 0.9645040231038903\n",
            "SPLIT:  52\n",
            "TRAIN: [389999 578644 213867 ... 223720 558681 427136] TEST: [512647  37579 313665 ... 585786 645054 251571]\n",
            "Exactitud del Modelo 0.9645132893700483\n",
            "SPLIT:  53\n",
            "TRAIN: [ 72943 620566  54064 ... 139510 340357  25119] TEST: [270624  20503 247188 ... 285335 613762 635595]\n",
            "Exactitud del Modelo 0.9646430170962611\n",
            "SPLIT:  54\n",
            "TRAIN: [263938 578747 647075 ...  14385 373551 398123] TEST: [587556  50228 497912 ...  44144 515863 361165]\n",
            "Exactitud del Modelo 0.9647140584701395\n",
            "SPLIT:  55\n",
            "TRAIN: [285181 505233 338044 ...  65375 117455 553665] TEST: [180996 257900 267828 ... 474574  48639 540157]\n",
            "Exactitud del Modelo 0.9643032540037991\n",
            "SPLIT:  56\n",
            "TRAIN: [139697 579338 151494 ... 627360 103694 595147] TEST: [487319 178289 457507 ... 211108 307610 374337]\n",
            "Exactitud del Modelo 0.9644947568377322\n",
            "SPLIT:  57\n",
            "TRAIN: [630493  16179 260938 ... 151122 436808 277548] TEST: [247428 107478 266648 ...  19431 466926 510418]\n",
            "Exactitud del Modelo 0.9650692653395314\n",
            "SPLIT:  58\n",
            "TRAIN: [330016   3827 188309 ... 539811 266169 603137] TEST: [125049  33665 302109 ... 522767 535377 592245]\n",
            "Exactitud del Modelo 0.9645472656792945\n",
            "SPLIT:  59\n",
            "TRAIN: [639950 106778 215106 ... 448035 154256 602633] TEST: [267494 318124 594444 ...  23553 230451 282265]\n",
            "Exactitud del Modelo 0.9643464965792035\n",
            "SPLIT:  60\n",
            "TRAIN: [531506 510073  59203 ... 499396 454447 501587] TEST: [624156 304297 554977 ... 238731 633001 291622]\n",
            "Exactitud del Modelo 0.9645627094562246\n",
            "SPLIT:  61\n",
            "TRAIN: [373531  35577 480285 ... 595096 411832 209147] TEST: [539925 576152   8075 ...  36167 260121 482438]\n",
            "Exactitud del Modelo 0.9649611589010209\n",
            "SPLIT:  62\n",
            "TRAIN: [497820  96614 284935 ... 209798  85358 370162] TEST: [275451 289480 331722 ...  68511 460641 559672]\n",
            "Exactitud del Modelo 0.9642198576083767\n",
            "SPLIT:  63\n",
            "TRAIN: [261403 260728 508586 ...  30127 162467 167754] TEST: [477744 515604 510991 ... 406673 529769 505241]\n",
            "Exactitud del Modelo 0.9645040231038903\n",
            "SPLIT:  64\n",
            "TRAIN: [488678 334551 370102 ... 207777  18396  97980] TEST: [415140 138141  44949 ... 231372  17833  55016]\n",
            "Exactitud del Modelo 0.9645688869669966\n",
            "SPLIT:  65\n",
            "TRAIN: [321283 643840  96289 ... 281252 631034 565726] TEST: [233609 361133 154423 ... 168532 375216 219451]\n",
            "Exactitud del Modelo 0.9641210174360242\n",
            "SPLIT:  66\n",
            "TRAIN: [236988 249566   3319 ...  53471 377965  71082] TEST: [251198 273777 605559 ... 433506 588463 201284]\n",
            "Exactitud del Modelo 0.9647542122901577\n",
            "SPLIT:  67\n",
            "TRAIN: [ 17317 334453 294701 ...  18524 584911 442783] TEST: [374857 329891 419221 ... 175813 310409 565451]\n",
            "Exactitud del Modelo 0.9643464965792035\n",
            "SPLIT:  68\n",
            "TRAIN: [239344 517132 338916 ... 343694 499291 466075] TEST: [537647 158130 485250 ... 586253 159204  36482]\n",
            "Exactitud del Modelo 0.9647047922039814\n",
            "SPLIT:  69\n",
            "TRAIN: [244003 279852 544690 ... 478873 311658 474254] TEST: [488885 463265 108028 ... 608095 367810  16393]\n",
            "Exactitud del Modelo 0.9643186977807292\n",
            "SPLIT:  70\n",
            "TRAIN: [548558 603165 355413 ... 329565 509180 361840] TEST: [365981  18250 620347 ...  96944 352945 402127]\n",
            "Exactitud del Modelo 0.9643156090253432\n",
            "SPLIT:  71\n",
            "TRAIN: [613186 480348  58685 ...  42603 384116 196506] TEST: [295219 118335 157782 ...  60506 570421 161670]\n",
            "Exactitud del Modelo 0.9645040231038903\n",
            "SPLIT:  72\n",
            "TRAIN: [ 17097 101505 101370 ... 365460 422065 386628] TEST: [592939 456502 147986 ... 557278 371679 399059]\n",
            "Exactitud del Modelo 0.964287810226869\n",
            "SPLIT:  73\n",
            "TRAIN: [643539 481155 497361 ... 619739 596826 432741] TEST: [ 54073 420744 156908 ... 509038 304777 577350]\n",
            "Exactitud del Modelo 0.9642661889391669\n",
            "SPLIT:  74\n",
            "TRAIN: [282592 601249  19691 ... 497051 341497 351711] TEST: [322604 387605 386967 ... 129376 209527 218064]\n",
            "Exactitud del Modelo 0.9647078809593674\n",
            "SPLIT:  75\n",
            "TRAIN: [205001 293669 101159 ... 507726  33885 300401] TEST: [ 13244 430721 486850 ... 394700 414215  98300]\n",
            "Exactitud del Modelo 0.9650352890302852\n",
            "SPLIT:  76\n",
            "TRAIN: [482658 629558 149043 ... 567162  91498   9889] TEST: [196464 104666 220244 ... 561829 616968 201042]\n",
            "Exactitud del Modelo 0.9647171472255255\n",
            "SPLIT:  77\n",
            "TRAIN: [628561 321259 350300 ... 502405 161921 424030] TEST: [100771 429288 170481 ... 501047 298703 555378]\n",
            "Exactitud del Modelo 0.9647078809593674\n",
            "SPLIT:  78\n",
            "TRAIN: [574539 523735 409897 ... 145581 473738 447773] TEST: [192670 328537 389666 ... 196642 471809 503345]\n",
            "Exactitud del Modelo 0.9645843307439267\n",
            "SPLIT:  79\n",
            "TRAIN: [623107 234929 498845 ... 196648 385919 618161] TEST: [149864  44651 388731 ... 498599 621275 204468]\n",
            "Exactitud del Modelo 0.9642229463637627\n",
            "SPLIT:  80\n",
            "TRAIN: [419784 567585 591512 ... 531416 156222 569144] TEST: [ 29046 270420 350725 ... 362932 115956  66128]\n",
            "Exactitud del Modelo 0.9644206267084678\n",
            "SPLIT:  81\n",
            "TRAIN: [ 85850 540089 595857 ... 562364 453363 625110] TEST: [444057 472000  70911 ...  63632 515499 439226]\n",
            "Exactitud del Modelo 0.9640993961483221\n",
            "SPLIT:  82\n",
            "TRAIN: [566558 458660 139691 ... 171883 357956 178784] TEST: [209336 591434 199790 ... 515081  93586  35672]\n",
            "Exactitud del Modelo 0.9642507451622369\n",
            "SPLIT:  83\n",
            "TRAIN: [337083 165205  17639 ... 393769 487146 215540] TEST: [ 38148 304923 428825 ... 619762 646099   1090]\n",
            "Exactitud del Modelo 0.9645719757223826\n",
            "SPLIT:  84\n",
            "TRAIN: [ 50762 566191 242939 ... 641418 171340 200252] TEST: [112478  19261 201139 ... 517731  32141 293375]\n",
            "Exactitud del Modelo 0.9645688869669966\n",
            "SPLIT:  85\n",
            "TRAIN: [ 95761 552057 607702 ...   4618 347799 517168] TEST: [185504 631797  82177 ... 492720  45080 226913]\n",
            "Exactitud del Modelo 0.9644206267084678\n",
            "SPLIT:  86\n",
            "TRAIN: [423764 418665 221212 ... 371342 586040 459249] TEST: [339487 409553 415011 ...  30108 100649  35694]\n",
            "Exactitud del Modelo 0.9645163781254343\n",
            "SPLIT:  87\n",
            "TRAIN: [297985 377003 250637 ... 335266 252060 572737] TEST: [308818  19634 232315 ...  46719 172927  57142]\n",
            "Exactitud del Modelo 0.9646368395854891\n",
            "SPLIT:  88\n",
            "TRAIN: [342767 107518 540065 ... 402053 249381 472550] TEST: [204879  54612 550406 ... 262281 301218 333635]\n",
            "Exactitud del Modelo 0.9645287331469784\n",
            "SPLIT:  89\n",
            "TRAIN: [ 65565 409905  19383 ... 287989 400659 617083] TEST: [504059 634545 374547 ... 356235 282381   6159]\n",
            "Exactitud del Modelo 0.9644947568377322\n",
            "SPLIT:  90\n",
            "TRAIN: [ 36514 267817 564475 ... 404974 462209 589716] TEST: [510550 643440 249988 ... 225666 478540 411833]\n",
            "Exactitud del Modelo 0.9644206267084678\n",
            "SPLIT:  91\n",
            "TRAIN: [338513 259648  87441 ... 579315  19784 500485] TEST: [ 11275 336905  40185 ... 545882 465767 527859]\n",
            "Exactitud del Modelo 0.9644824018161882\n",
            "SPLIT:  92\n",
            "TRAIN: [390129 477061  96754 ... 185610 622382 510084] TEST: [ 74885 346977 306644 ... 374999 439608 591521]\n",
            "Exactitud del Modelo 0.9647480347793856\n",
            "SPLIT:  93\n",
            "TRAIN: [ 22263 240315   9646 ... 536708 614889 100094] TEST: [ 23064 570345 515780 ... 256873 574814  52988]\n",
            "Exactitud del Modelo 0.9642353013853068\n",
            "SPLIT:  94\n",
            "TRAIN: [229770 111170 613328 ... 591110 485482 243469] TEST: [627199 235109 138233 ... 292258 611188 261491]\n",
            "Exactitud del Modelo 0.9648499637071242\n",
            "SPLIT:  95\n",
            "TRAIN: [352022 508567 183379 ... 515041 457867  88383] TEST: [200213 125703 310201 ... 468831  73029   5528]\n",
            "Exactitud del Modelo 0.9643990054207657\n",
            "SPLIT:  96\n",
            "TRAIN: [ 42097 569327 401482 ...  83684  69866 190079] TEST: [322193 264452 184574 ...  77986  79419 612859]\n",
            "Exactitud del Modelo 0.96444224799617\n",
            "SPLIT:  97\n",
            "TRAIN: [238476 406650 428505 ... 631725 395328 343804] TEST: [552001 431040 596756 ... 169742 293385  28474]\n",
            "Exactitud del Modelo 0.9643959166653797\n",
            "SPLIT:  98\n",
            "TRAIN: [463410 123629 567257 ...  58536  99773 589709] TEST: [532032 189933 307960 ... 535339 268380 333117]\n",
            "Exactitud del Modelo 0.9644576917731\n",
            "SPLIT:  99\n",
            "TRAIN: [ 47046 238529 264050 ...   4368 240318  88043] TEST: [183741 168972 406613 ...  27094 184707  96072]\n",
            "Exactitud del Modelo 0.9644020941761517\n",
            "SPLIT:  100\n",
            "TRAIN: [532912 627928 225083 ... 104734 107306  60178] TEST: [291618  64469  36754 ...  43146 258719  67842]\n",
            "Exactitud del Modelo 0.9640468873067597\n"
          ]
        }
      ]
    },
    {
      "cell_type": "code",
      "source": [
        "split_2 = np.array(split_2)\n",
        "print('Segunda ejecucion 50(train) - 50(test)')\n",
        "print('Mediana de la Confiabilidad: ', np.median(split_2))"
      ],
      "metadata": {
        "colab": {
          "base_uri": "https://localhost:8080/"
        },
        "id": "8WcqdREwV0ln",
        "outputId": "9f6d5255-bc3a-4c5b-865a-7a6431f9cb21"
      },
      "execution_count": 266,
      "outputs": [
        {
          "output_type": "stream",
          "name": "stdout",
          "text": [
            "Segunda ejecucion 50(train) - 50(test)\n",
            "Mediana de la Confiabilidad:  0.9645040231038903\n"
          ]
        }
      ]
    },
    {
      "cell_type": "markdown",
      "source": [
        "# **PCA - Principal Component Analysis**\n",
        "\n",
        "PCA siempre se puede utilizar para simplificar los datos con grandes dimensiones (mayores de 2) en datos bidimensionales eliminando las características menos influntiales de los datos. Sin embargo, debemos saber que la eliminación de datos hace que la variable independiente sea menos interpretable. Antes de comenzar a tratar con el PCA, primero debemos aprender cómo el PCA utiliza los vectores propios para obtener una matriz de covarianza de diagonalización."
      ],
      "metadata": {
        "id": "LB7MIkB7-Cg0"
      }
    },
    {
      "cell_type": "markdown",
      "source": [
        "## **Autovectores**\n",
        "\n",
        "Los autovectores y autovalores son las principales herramientas utilizadas por PCA para obtener una matriz de covarianza de diagnóstico. El autovector es un vector cuya dirección no se verá afectada por la transformación lineal, por lo tanto, los autovectores representan la dirección de mayor varianza de los datos, mientras que el autovalor decide la magnitud de esta varianza en esas direcciones."
      ],
      "metadata": {
        "id": "OujIQbWMAcL-"
      }
    },
    {
      "cell_type": "markdown",
      "source": [
        "Aquí usamos una matriz simple (2x2) $ A $ para explicarlo.\n",
        "$$\n",
        "A = \\begin {bmatrix}\n",
        "1 & 4 \\\\\n",
        "3 & 2\n",
        "\\end {bmatrix}\n",
        "$$\n",
        "\n",
        "En general, el vector propio $v$ de una matriz $A$ es el vector donde se cumple lo siguiente:\n",
        "\n",
        "$$\n",
        "Av = \\lambda v\n",
        "$$\n",
        "\n",
        "para el cual $\\lambda$ representa el autovalor tal que la transformación lineal en $v$ puede definirse mediante $\\lambda$\n",
        "\n",
        "Además, podemos resolver la ecuación de la siguiente manera:\n",
        "\n",
        "$$\n",
        "Av - \\lambda v = 0 \\\\\n",
        "v(A-\\lambda I) = 0\n",
        "$$\n",
        "Mientras que $I$ es la matriz identidad de A\n",
        "\n",
        "$$\n",
        "I = A^TA = AA^T\n",
        "$$\n",
        "\n",
        "En este caso, si $v$ es un vector sin cero entonces $Det(A - \\lambda I) = 0$, ya que no puede ser invertible, y podemos resolver $v$ para $A$ depende de esta relación.\n",
        "\n",
        "$$\n",
        "I = \\begin{bmatrix} \n",
        "1 & 0 \\\\\n",
        "0 & 1 \n",
        "\\end{bmatrix} \\\\\n",
        "$$\n",
        "\n",
        "$$\n",
        "(A - \\lambda I) = \\begin{bmatrix}\n",
        "1-\\lambda & 4 \\\\\n",
        "3 & 2 - \\lambda \n",
        "\\end{bmatrix} \\\\\n",
        "$$\n",
        "\n",
        "Para resolver el $\\lambda$ podemos usar la función resolver en sympy o calculando.\n",
        "\n",
        "En este caso, $\\lambda_1 = -2 $ y $ \\lambda_2 = 5 $, y podemos calcular los vectores propios en dos casos.\n",
        "\n",
        "Por $ \\lambda_1 = -2 $\n",
        "\n",
        "Con base en la matriz, podemos inferir que el vector propio puede ser\n",
        "$$\n",
        "v_1 = \\begin {bmatrix}\n",
        "-4 \\\\\n",
        "3 \\end {bmatrix}\n",
        "$$\n",
        "\n",
        "Por $ \\lambda = 5 $\n",
        "\n",
        "Con base en la matriz, podemos inferir que el vector propio puede ser\n",
        "$$\n",
        "v_2 = \\begin {bmatrix}\n",
        "1 \\\\\n",
        "1 \\end {bmatrix}\n",
        "$$\n",
        "Con todo, la matriz de covarianza $ A'$ ahora puede ser:\n",
        "$$\n",
        "A' = v * A \\\\\n",
        "$$\n",
        "\n",
        "De tal manera que podamos obtener la matriz $V$\n",
        "$$\n",
        "V = \\begin {bmatrix}\n",
        "-4 & 1 \\\\\n",
        "3 & 1\n",
        "\\end {bmatrix}\n",
        "$$\n",
        "donde $ A' = V ^ {- 1} A V $ \n",
        "# Ejecutando PCA\n"
      ],
      "metadata": {
        "id": "5HYvFK_MAuCW"
      }
    },
    {
      "cell_type": "code",
      "source": [
        "cov_mat = np.dot(X.T, X)\n",
        "cov_mat"
      ],
      "metadata": {
        "colab": {
          "base_uri": "https://localhost:8080/"
        },
        "id": "nwVfbAWAHf6u",
        "outputId": "e858959c-3664-43a3-fc96-297ed9571c98"
      },
      "execution_count": 333,
      "outputs": [
        {
          "output_type": "execute_result",
          "data": {
            "text/plain": [
              "array([[ 6.47510000e+05, -3.17134965e+05,  3.04718613e+04,\n",
              "         1.78240818e+04,  1.39381385e+04,  1.22972438e+04,\n",
              "        -2.25013534e+04,  1.95184392e+04,  1.12813560e+04],\n",
              "       [-3.17134965e+05,  6.47510000e+05,  1.99162748e+05,\n",
              "        -4.40090867e+03, -1.35728720e+04,  2.41555797e+02,\n",
              "         3.65483233e+04, -1.41639443e+04, -1.49420706e+04],\n",
              "       [ 3.04718613e+04,  1.99162748e+05,  6.47510000e+05,\n",
              "         9.84785032e+03,  5.55641763e+03,  4.79069353e+03,\n",
              "         2.29083675e+04, -1.47346880e+04, -1.22591124e+04],\n",
              "       [ 1.78240818e+04, -4.40090867e+03,  9.84785032e+03,\n",
              "         6.47510000e+05,  4.61300409e+05,  5.21602189e+05,\n",
              "         1.97440402e+05,  3.14516841e+04,  3.07768689e+04],\n",
              "       [ 1.39381385e+04, -1.35728720e+04,  5.55641763e+03,\n",
              "         4.61300409e+05,  6.47510000e+05,  5.08816925e+05,\n",
              "         1.59122795e+05,  3.59576893e+04,  3.74545357e+04],\n",
              "       [ 1.22972438e+04,  2.41555797e+02,  4.79069353e+03,\n",
              "         5.21602189e+05,  5.08816925e+05,  6.47510000e+05,\n",
              "         1.22378247e+05,  2.49954178e+04,  2.19300755e+04],\n",
              "       [-2.25013534e+04,  3.65483233e+04,  2.29083675e+04,\n",
              "         1.97440402e+05,  1.59122795e+05,  1.22378247e+05,\n",
              "         6.47510000e+05,  9.78816458e+04,  1.18408099e+05],\n",
              "       [ 1.95184392e+04, -1.41639443e+04, -1.47346880e+04,\n",
              "         3.14516841e+04,  3.59576893e+04,  2.49954178e+04,\n",
              "         9.78816458e+04,  6.47510000e+05,  1.48269137e+05],\n",
              "       [ 1.12813560e+04, -1.49420706e+04, -1.22591124e+04,\n",
              "         3.07768689e+04,  3.74545357e+04,  2.19300755e+04,\n",
              "         1.18408099e+05,  1.48269137e+05,  6.47510000e+05]])"
            ]
          },
          "metadata": {},
          "execution_count": 333
        }
      ]
    },
    {
      "cell_type": "code",
      "source": [
        "autovalores, autovectores = np.linalg.eig(cov_mat)\n",
        "print(autovalores)\n",
        "print(autovectores)"
      ],
      "metadata": {
        "colab": {
          "base_uri": "https://localhost:8080/"
        },
        "id": "PZNeLDOoHhUD",
        "outputId": "3c318839-c09c-4634-bf0b-70615de35792"
      },
      "execution_count": 334,
      "outputs": [
        {
          "output_type": "stream",
          "name": "stdout",
          "text": [
            "[1727870.83882243 1016466.95409743  107188.72579891  259164.27252604\n",
            "  185141.75603897  845714.30088854  674470.3096866   519889.80291888\n",
            "  491683.0392222 ]\n",
            "[[-0.02173509 -0.59545712 -0.00404949  0.59602315  0.04662498 -0.04094427\n",
            "   0.53235712  0.04129027 -0.02718651]\n",
            " [ 0.00635899  0.71310549 -0.02703131  0.69058172  0.05252777  0.03882337\n",
            "   0.03118996 -0.08799049  0.02871867]\n",
            " [-0.01321286  0.34628096  0.01115557 -0.40156531 -0.0235633  -0.0182809\n",
            "   0.84393135 -0.05765174  0.04585307]\n",
            " [-0.5552525   0.00459065 -0.51165811  0.03375465 -0.64649305 -0.10243596\n",
            "  -0.00919118 -0.01388406  0.00406858]\n",
            " [-0.54468574 -0.0073891  -0.33366724 -0.0650103   0.74901775 -0.11207502\n",
            "  -0.02366649 -0.0963212   0.0653942 ]\n",
            " [-0.55820865  0.0031062   0.78345968  0.02733587 -0.10871726 -0.16434567\n",
            "  -0.02994288 -0.15826454  0.09520479]\n",
            " [-0.26152009  0.09070118  0.11031143 -0.0029807   0.05499375  0.40123995\n",
            "   0.04085239  0.7357603  -0.45185517]\n",
            " [-0.08303581 -0.07237009 -0.00364312 -0.02054758 -0.01405272  0.61368815\n",
            "   0.01299614 -0.63448148 -0.45594504]\n",
            " [-0.08625584 -0.0587488  -0.00310891  0.00738527 -0.0221274   0.63938412\n",
            "   0.00489814  0.09381306  0.75559099]]\n"
          ]
        }
      ]
    },
    {
      "cell_type": "code",
      "source": [
        "from random import shuffle\n",
        "components = 2\n",
        "v = [i for i in range(9)]\n",
        "shuffle(v)\n",
        "pca = np.delete(autovectores, obj = v[:9 - components], axis = 1)\n",
        "\n",
        "var_acc = (np.sum(autovalores) - autovalores[2]) / (np.sum(autovalores))\n",
        "print(var_acc)"
      ],
      "metadata": {
        "colab": {
          "base_uri": "https://localhost:8080/"
        },
        "id": "BxYgx0NiHqMJ",
        "outputId": "feeffd44-1641-400e-ae18-12657eb468d2"
      },
      "execution_count": 357,
      "outputs": [
        {
          "output_type": "stream",
          "name": "stdout",
          "text": [
            "0.9816066803260156\n"
          ]
        }
      ]
    },
    {
      "cell_type": "code",
      "source": [
        "pca"
      ],
      "metadata": {
        "colab": {
          "base_uri": "https://localhost:8080/"
        },
        "id": "ziB1PMPVIxAo",
        "outputId": "df31d82a-53b4-490c-c947-d83796984193"
      },
      "execution_count": 351,
      "outputs": [
        {
          "output_type": "execute_result",
          "data": {
            "text/plain": [
              "array([[-0.59545712,  0.04129027],\n",
              "       [ 0.71310549, -0.08799049],\n",
              "       [ 0.34628096, -0.05765174],\n",
              "       [ 0.00459065, -0.01388406],\n",
              "       [-0.0073891 , -0.0963212 ],\n",
              "       [ 0.0031062 , -0.15826454],\n",
              "       [ 0.09070118,  0.7357603 ],\n",
              "       [-0.07237009, -0.63448148],\n",
              "       [-0.0587488 ,  0.09381306]])"
            ]
          },
          "metadata": {},
          "execution_count": 351
        }
      ]
    },
    {
      "cell_type": "code",
      "source": [
        "data_pca = np.dot(X, pca)\n",
        "print(len(data_pca[0]))\n",
        "data_pca"
      ],
      "metadata": {
        "colab": {
          "base_uri": "https://localhost:8080/"
        },
        "id": "L9tI42BCIBdX",
        "outputId": "921491e4-40f7-406c-e3b8-9c3b982b0793"
      },
      "execution_count": 352,
      "outputs": [
        {
          "output_type": "stream",
          "name": "stdout",
          "text": [
            "2\n"
          ]
        },
        {
          "output_type": "execute_result",
          "data": {
            "text/plain": [
              "array([[ 1.38786405,  0.94334064],\n",
              "       [ 1.38728789,  0.96628687],\n",
              "       [ 1.38843355,  0.9768789 ],\n",
              "       ...,\n",
              "       [-0.45366914, -0.06834017],\n",
              "       [-0.44984849, -0.06201969],\n",
              "       [-0.43126047,  0.11603394]])"
            ]
          },
          "metadata": {},
          "execution_count": 352
        }
      ]
    },
    {
      "cell_type": "code",
      "source": [
        "X_train, X_test, y_train, y_test = train_test_split(data_pca, y, test_size=0.2)\n",
        "log_reg = LogisticRegression(solver = 'lbfgs', max_iter=1000)\n",
        "log_reg.fit(X_train, y_train)\n",
        "y_pred = log_reg.predict(X_test)\n",
        "result = confusion_matrix(y_test, y_pred)\n",
        "print('Confusion Matrix:')\n",
        "print(result)\n",
        "print(\"Exactitud del modelo:\", accuracy_score(y_test, y_pred))"
      ],
      "metadata": {
        "colab": {
          "base_uri": "https://localhost:8080/"
        },
        "id": "41Bs41e1LRLN",
        "outputId": "6797e26c-3959-40a7-a7c0-f42f51d7af09"
      },
      "execution_count": 353,
      "outputs": [
        {
          "output_type": "stream",
          "name": "stdout",
          "text": [
            "Confusion Matrix:\n",
            "[[     3   9571]\n",
            " [     0 119928]]\n",
            "Exactitud del modelo: 0.9260938055010733\n"
          ]
        }
      ]
    },
    {
      "cell_type": "markdown",
      "source": [
        "# **PCA con Python**"
      ],
      "metadata": {
        "id": "ncu9iiXgMRSw"
      }
    },
    {
      "cell_type": "code",
      "source": [
        "import mglearn\n",
        "from sklearn.datasets import load_breast_cancer\n",
        "import matplotlib.pyplot as plt\n",
        "from sklearn.decomposition import PCA\n",
        "%matplotlib inline "
      ],
      "metadata": {
        "id": "XJB6O3utZUfh"
      },
      "execution_count": 144,
      "outputs": []
    },
    {
      "cell_type": "markdown",
      "source": [
        "### **PCA - 2 componentes**"
      ],
      "metadata": {
        "id": "jLwX6YNxEeQf"
      }
    },
    {
      "cell_type": "code",
      "source": [
        "pca=PCA(n_components=2)\n",
        "pca.fit(X)\n",
        "transformada=pca.transform(X)\n",
        "\n",
        "X_train, X_test, y_train, y_test = train_test_split(transformada, y, test_size=0.2)\n",
        "log_reg = LogisticRegression(solver = 'lbfgs', max_iter=1000)\n",
        "log_reg.fit(X_train, y_train)\n",
        "y_pred = log_reg.predict(X_test)\n",
        "result = confusion_matrix(y_test, y_pred)\n",
        "print('Confusion Matrix:')\n",
        "print(result)\n",
        "print(\"Exactitud del modelo:\", accuracy_score(y_test, y_pred))\n"
      ],
      "metadata": {
        "colab": {
          "base_uri": "https://localhost:8080/"
        },
        "id": "26zHbwcocdlN",
        "outputId": "c6c6e2c4-6e80-4144-ca69-6ef0073007a6"
      },
      "execution_count": 296,
      "outputs": [
        {
          "output_type": "stream",
          "name": "stdout",
          "text": [
            "Confusion Matrix:\n",
            "[[  4737   4856]\n",
            " [  1291 118618]]\n",
            "Exactitud del modelo: 0.9525335516053806\n"
          ]
        }
      ]
    },
    {
      "cell_type": "markdown",
      "source": [
        "### **PCA - 3 componentes**"
      ],
      "metadata": {
        "id": "4jya1TA0EkGO"
      }
    },
    {
      "cell_type": "code",
      "source": [
        "pca=PCA(n_components=3)\n",
        "pca.fit(X)\n",
        "transformada=pca.transform(X)\n",
        "\n",
        "X_train, X_test, y_train, y_test = train_test_split(transformada, y, test_size=0.2)\n",
        "log_reg = LogisticRegression(solver = 'lbfgs', max_iter=1000)\n",
        "log_reg.fit(X_train, y_train)\n",
        "y_pred = log_reg.predict(X_test)\n",
        "result = confusion_matrix(y_test, y_pred)\n",
        "print('Confusion Matrix:')\n",
        "print(result)\n",
        "print(\"Exactitud del modelo:\", accuracy_score(y_test, y_pred))"
      ],
      "metadata": {
        "colab": {
          "base_uri": "https://localhost:8080/"
        },
        "id": "VI5kjKoweyMQ",
        "outputId": "9c062f9c-4e43-4ec0-de0b-3560113e0303"
      },
      "execution_count": 286,
      "outputs": [
        {
          "output_type": "stream",
          "name": "stdout",
          "text": [
            "Confusion Matrix:\n",
            "[[  5021   4575]\n",
            " [  1289 118617]]\n",
            "Exactitud del modelo: 0.9547188460409878\n"
          ]
        }
      ]
    },
    {
      "cell_type": "markdown",
      "source": [
        "### **PCA - 5 componentes**"
      ],
      "metadata": {
        "id": "AGlEX3vmEmu-"
      }
    },
    {
      "cell_type": "code",
      "source": [
        "pca=PCA(n_components=5)\n",
        "pca.fit(X)\n",
        "transformada=pca.transform(X)\n",
        "\n",
        "X_train, X_test, y_train, y_test = train_test_split(transformada, y, test_size=0.2)\n",
        "log_reg = LogisticRegression(solver = 'lbfgs', max_iter=1000)\n",
        "log_reg.fit(X_train, y_train)\n",
        "y_pred = log_reg.predict(X_test)\n",
        "result = confusion_matrix(y_test, y_pred)\n",
        "print('Confusion Matrix:')\n",
        "print(result)\n",
        "print(\"Exactitud del modelo:\", accuracy_score(y_test, y_pred))"
      ],
      "metadata": {
        "colab": {
          "base_uri": "https://localhost:8080/"
        },
        "id": "oQTCSocmd4I5",
        "outputId": "adc5899c-3e38-4bc3-b891-f4a51a25d352"
      },
      "execution_count": 287,
      "outputs": [
        {
          "output_type": "stream",
          "name": "stdout",
          "text": [
            "Confusion Matrix:\n",
            "[[  5233   4360]\n",
            " [  1381 118528]]\n",
            "Exactitud del modelo: 0.9556686383221881\n"
          ]
        }
      ]
    },
    {
      "cell_type": "markdown",
      "source": [
        "### **PCA - 7 componentes**"
      ],
      "metadata": {
        "id": "Xd6_UuVeEoxQ"
      }
    },
    {
      "cell_type": "code",
      "source": [
        "pca=PCA(n_components=7)\n",
        "pca.fit(X)\n",
        "transformada=pca.transform(X)\n",
        "\n",
        "X_train, X_test, y_train, y_test = train_test_split(transformada, y, test_size=0.2)\n",
        "log_reg = LogisticRegression(solver = 'lbfgs', max_iter=1000)\n",
        "log_reg.fit(X_train, y_train)\n",
        "y_pred = log_reg.predict(X_test)\n",
        "result = confusion_matrix(y_test, y_pred)\n",
        "print('Confusion Matrix:')\n",
        "print(result)\n",
        "print(\"Exactitud del modelo:\", accuracy_score(y_test, y_pred))"
      ],
      "metadata": {
        "colab": {
          "base_uri": "https://localhost:8080/"
        },
        "id": "y6g77zA9erwm",
        "outputId": "dbb88664-584f-4db8-b732-9597f7f5934e"
      },
      "execution_count": 288,
      "outputs": [
        {
          "output_type": "stream",
          "name": "stdout",
          "text": [
            "Confusion Matrix:\n",
            "[[  5364   4346]\n",
            " [  1372 118420]]\n",
            "Exactitud del modelo: 0.955846241756884\n"
          ]
        }
      ]
    },
    {
      "cell_type": "markdown",
      "source": [
        "### **PCA - 8 componentes**"
      ],
      "metadata": {
        "id": "WXN4VQFBEz2H"
      }
    },
    {
      "cell_type": "code",
      "source": [
        "pca=PCA(n_components=8)\n",
        "pca.fit(X)\n",
        "transformada=pca.transform(X)\n",
        "\n",
        "X_train, X_test, y_train, y_test = train_test_split(transformada, y, test_size=0.2)\n",
        "log_reg = LogisticRegression(solver = 'lbfgs', max_iter=1000)\n",
        "log_reg.fit(X_train, y_train)\n",
        "y_pred = log_reg.predict(X_test)\n",
        "result = confusion_matrix(y_test, y_pred)\n",
        "print('Confusion Matrix:')\n",
        "print(result)\n",
        "print(\"Exactitud del modelo:\", accuracy_score(y_test, y_pred))"
      ],
      "metadata": {
        "colab": {
          "base_uri": "https://localhost:8080/"
        },
        "id": "4CetqivKfDA0",
        "outputId": "4d2d87ca-b883-4322-f2ae-c253a129cfb0"
      },
      "execution_count": 289,
      "outputs": [
        {
          "output_type": "stream",
          "name": "stdout",
          "text": [
            "Confusion Matrix:\n",
            "[[  6354   3407]\n",
            " [  1362 118379]]\n",
            "Exactitud del modelo: 0.9631743139102099\n"
          ]
        }
      ]
    }
  ]
}